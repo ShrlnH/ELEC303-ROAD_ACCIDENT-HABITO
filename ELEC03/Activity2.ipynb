{
 "cells": [
  {
   "cell_type": "code",
   "execution_count": 3,
   "id": "9aadd2d6-787e-404e-b369-a2ef900b0437",
   "metadata": {},
   "outputs": [],
   "source": [
    "import numpy as np\n",
    "import pandas as pd\n",
    "import warnings\n",
    "warnings.filterwarnings('ignore')"
   ]
  },
  {
   "cell_type": "code",
   "execution_count": 4,
   "id": "65a29912-b86f-44e8-bde8-eeec37154186",
   "metadata": {},
   "outputs": [],
   "source": [
    "accident = pd.read_csv('datasets\\\\uk_road_accident.csv')"
   ]
  },
  {
   "cell_type": "code",
   "execution_count": 5,
   "id": "9c5789f2-9b08-4b7f-8074-7292de43dce8",
   "metadata": {},
   "outputs": [
    {
     "data": {
      "text/html": [
       "<div>\n",
       "<style scoped>\n",
       "    .dataframe tbody tr th:only-of-type {\n",
       "        vertical-align: middle;\n",
       "    }\n",
       "\n",
       "    .dataframe tbody tr th {\n",
       "        vertical-align: top;\n",
       "    }\n",
       "\n",
       "    .dataframe thead th {\n",
       "        text-align: right;\n",
       "    }\n",
       "</style>\n",
       "<table border=\"1\" class=\"dataframe\">\n",
       "  <thead>\n",
       "    <tr style=\"text-align: right;\">\n",
       "      <th></th>\n",
       "      <th>Index</th>\n",
       "      <th>Accident_Severity</th>\n",
       "      <th>Accident Date</th>\n",
       "      <th>Latitude</th>\n",
       "      <th>Light_Conditions</th>\n",
       "      <th>District Area</th>\n",
       "      <th>Longitude</th>\n",
       "      <th>Number_of_Casualties</th>\n",
       "      <th>Number_of_Vehicles</th>\n",
       "      <th>Road_Surface_Conditions</th>\n",
       "      <th>Road_Type</th>\n",
       "      <th>Urban_or_Rural_Area</th>\n",
       "      <th>Weather_Conditions</th>\n",
       "      <th>Vehicle_Type</th>\n",
       "    </tr>\n",
       "  </thead>\n",
       "  <tbody>\n",
       "    <tr>\n",
       "      <th>0</th>\n",
       "      <td>200701BS64157</td>\n",
       "      <td>Serious</td>\n",
       "      <td>5/6/2019</td>\n",
       "      <td>51.506187</td>\n",
       "      <td>Darkness - lights lit</td>\n",
       "      <td>Kensington and Chelsea</td>\n",
       "      <td>-0.209082</td>\n",
       "      <td>1</td>\n",
       "      <td>2</td>\n",
       "      <td>Dry</td>\n",
       "      <td>Single carriageway</td>\n",
       "      <td>Urban</td>\n",
       "      <td>Fine no high winds</td>\n",
       "      <td>Car</td>\n",
       "    </tr>\n",
       "    <tr>\n",
       "      <th>1</th>\n",
       "      <td>200701BS65737</td>\n",
       "      <td>Serious</td>\n",
       "      <td>2/7/2019</td>\n",
       "      <td>51.495029</td>\n",
       "      <td>Daylight</td>\n",
       "      <td>Kensington and Chelsea</td>\n",
       "      <td>-0.173647</td>\n",
       "      <td>1</td>\n",
       "      <td>2</td>\n",
       "      <td>Wet or damp</td>\n",
       "      <td>Single carriageway</td>\n",
       "      <td>Urban</td>\n",
       "      <td>Raining no high winds</td>\n",
       "      <td>Car</td>\n",
       "    </tr>\n",
       "    <tr>\n",
       "      <th>2</th>\n",
       "      <td>200701BS66127</td>\n",
       "      <td>Serious</td>\n",
       "      <td>26-08-2019</td>\n",
       "      <td>51.517715</td>\n",
       "      <td>Darkness - lighting unknown</td>\n",
       "      <td>Kensington and Chelsea</td>\n",
       "      <td>-0.210215</td>\n",
       "      <td>1</td>\n",
       "      <td>3</td>\n",
       "      <td>Dry</td>\n",
       "      <td>NaN</td>\n",
       "      <td>Urban</td>\n",
       "      <td>NaN</td>\n",
       "      <td>Taxi/Private hire car</td>\n",
       "    </tr>\n",
       "    <tr>\n",
       "      <th>3</th>\n",
       "      <td>200701BS66128</td>\n",
       "      <td>Serious</td>\n",
       "      <td>16-08-2019</td>\n",
       "      <td>51.495478</td>\n",
       "      <td>Daylight</td>\n",
       "      <td>Kensington and Chelsea</td>\n",
       "      <td>-0.202731</td>\n",
       "      <td>1</td>\n",
       "      <td>4</td>\n",
       "      <td>Dry</td>\n",
       "      <td>Single carriageway</td>\n",
       "      <td>Urban</td>\n",
       "      <td>Fine no high winds</td>\n",
       "      <td>Bus or coach (17 or more pass seats)</td>\n",
       "    </tr>\n",
       "    <tr>\n",
       "      <th>4</th>\n",
       "      <td>200701BS66837</td>\n",
       "      <td>Slight</td>\n",
       "      <td>3/9/2019</td>\n",
       "      <td>51.488576</td>\n",
       "      <td>Darkness - lights lit</td>\n",
       "      <td>Kensington and Chelsea</td>\n",
       "      <td>-0.192487</td>\n",
       "      <td>1</td>\n",
       "      <td>2</td>\n",
       "      <td>Dry</td>\n",
       "      <td>NaN</td>\n",
       "      <td>Urban</td>\n",
       "      <td>NaN</td>\n",
       "      <td>Other vehicle</td>\n",
       "    </tr>\n",
       "    <tr>\n",
       "      <th>...</th>\n",
       "      <td>...</td>\n",
       "      <td>...</td>\n",
       "      <td>...</td>\n",
       "      <td>...</td>\n",
       "      <td>...</td>\n",
       "      <td>...</td>\n",
       "      <td>...</td>\n",
       "      <td>...</td>\n",
       "      <td>...</td>\n",
       "      <td>...</td>\n",
       "      <td>...</td>\n",
       "      <td>...</td>\n",
       "      <td>...</td>\n",
       "      <td>...</td>\n",
       "    </tr>\n",
       "    <tr>\n",
       "      <th>660674</th>\n",
       "      <td>201091NM01760</td>\n",
       "      <td>Slight</td>\n",
       "      <td>18-02-2022</td>\n",
       "      <td>57.374005</td>\n",
       "      <td>Daylight</td>\n",
       "      <td>Highland</td>\n",
       "      <td>-3.467828</td>\n",
       "      <td>2</td>\n",
       "      <td>1</td>\n",
       "      <td>Dry</td>\n",
       "      <td>Single carriageway</td>\n",
       "      <td>Rural</td>\n",
       "      <td>Fine no high winds</td>\n",
       "      <td>Car</td>\n",
       "    </tr>\n",
       "    <tr>\n",
       "      <th>660675</th>\n",
       "      <td>201091NM01881</td>\n",
       "      <td>Slight</td>\n",
       "      <td>21-02-2022</td>\n",
       "      <td>57.232273</td>\n",
       "      <td>Darkness - no lighting</td>\n",
       "      <td>Highland</td>\n",
       "      <td>-3.809281</td>\n",
       "      <td>1</td>\n",
       "      <td>1</td>\n",
       "      <td>Frost or ice</td>\n",
       "      <td>Single carriageway</td>\n",
       "      <td>Rural</td>\n",
       "      <td>Fine no high winds</td>\n",
       "      <td>Car</td>\n",
       "    </tr>\n",
       "    <tr>\n",
       "      <th>660676</th>\n",
       "      <td>201091NM01935</td>\n",
       "      <td>Slight</td>\n",
       "      <td>23-02-2022</td>\n",
       "      <td>57.585044</td>\n",
       "      <td>Daylight</td>\n",
       "      <td>Highland</td>\n",
       "      <td>-3.862727</td>\n",
       "      <td>1</td>\n",
       "      <td>3</td>\n",
       "      <td>Frost or ice</td>\n",
       "      <td>Single carriageway</td>\n",
       "      <td>Rural</td>\n",
       "      <td>Fine no high winds</td>\n",
       "      <td>Car</td>\n",
       "    </tr>\n",
       "    <tr>\n",
       "      <th>660677</th>\n",
       "      <td>201091NM01964</td>\n",
       "      <td>Serious</td>\n",
       "      <td>23-02-2022</td>\n",
       "      <td>57.214898</td>\n",
       "      <td>Darkness - no lighting</td>\n",
       "      <td>Highland</td>\n",
       "      <td>-3.823997</td>\n",
       "      <td>1</td>\n",
       "      <td>2</td>\n",
       "      <td>Wet or damp</td>\n",
       "      <td>Single carriageway</td>\n",
       "      <td>Rural</td>\n",
       "      <td>Fine no high winds</td>\n",
       "      <td>Motorcycle over 500cc</td>\n",
       "    </tr>\n",
       "    <tr>\n",
       "      <th>660678</th>\n",
       "      <td>201091NM02142</td>\n",
       "      <td>Serious</td>\n",
       "      <td>28-02-2022</td>\n",
       "      <td>57.575210</td>\n",
       "      <td>Daylight</td>\n",
       "      <td>Highland</td>\n",
       "      <td>-3.895673</td>\n",
       "      <td>1</td>\n",
       "      <td>1</td>\n",
       "      <td>Wet or damp</td>\n",
       "      <td>Dual carriageway</td>\n",
       "      <td>Rural</td>\n",
       "      <td>Snowing no high winds</td>\n",
       "      <td>Car</td>\n",
       "    </tr>\n",
       "  </tbody>\n",
       "</table>\n",
       "<p>660679 rows × 14 columns</p>\n",
       "</div>"
      ],
      "text/plain": [
       "                Index Accident_Severity Accident Date   Latitude  \\\n",
       "0       200701BS64157           Serious      5/6/2019  51.506187   \n",
       "1       200701BS65737           Serious      2/7/2019  51.495029   \n",
       "2       200701BS66127           Serious    26-08-2019  51.517715   \n",
       "3       200701BS66128           Serious    16-08-2019  51.495478   \n",
       "4       200701BS66837            Slight      3/9/2019  51.488576   \n",
       "...               ...               ...           ...        ...   \n",
       "660674  201091NM01760            Slight    18-02-2022  57.374005   \n",
       "660675  201091NM01881            Slight    21-02-2022  57.232273   \n",
       "660676  201091NM01935            Slight    23-02-2022  57.585044   \n",
       "660677  201091NM01964           Serious    23-02-2022  57.214898   \n",
       "660678  201091NM02142           Serious    28-02-2022  57.575210   \n",
       "\n",
       "                   Light_Conditions           District Area  Longitude  \\\n",
       "0             Darkness - lights lit  Kensington and Chelsea  -0.209082   \n",
       "1                          Daylight  Kensington and Chelsea  -0.173647   \n",
       "2       Darkness - lighting unknown  Kensington and Chelsea  -0.210215   \n",
       "3                          Daylight  Kensington and Chelsea  -0.202731   \n",
       "4             Darkness - lights lit  Kensington and Chelsea  -0.192487   \n",
       "...                             ...                     ...        ...   \n",
       "660674                     Daylight                Highland  -3.467828   \n",
       "660675       Darkness - no lighting                Highland  -3.809281   \n",
       "660676                     Daylight                Highland  -3.862727   \n",
       "660677       Darkness - no lighting                Highland  -3.823997   \n",
       "660678                     Daylight                Highland  -3.895673   \n",
       "\n",
       "        Number_of_Casualties  Number_of_Vehicles Road_Surface_Conditions  \\\n",
       "0                          1                   2                     Dry   \n",
       "1                          1                   2             Wet or damp   \n",
       "2                          1                   3                     Dry   \n",
       "3                          1                   4                     Dry   \n",
       "4                          1                   2                     Dry   \n",
       "...                      ...                 ...                     ...   \n",
       "660674                     2                   1                     Dry   \n",
       "660675                     1                   1            Frost or ice   \n",
       "660676                     1                   3            Frost or ice   \n",
       "660677                     1                   2             Wet or damp   \n",
       "660678                     1                   1             Wet or damp   \n",
       "\n",
       "                 Road_Type Urban_or_Rural_Area     Weather_Conditions  \\\n",
       "0       Single carriageway               Urban     Fine no high winds   \n",
       "1       Single carriageway               Urban  Raining no high winds   \n",
       "2                      NaN               Urban                    NaN   \n",
       "3       Single carriageway               Urban     Fine no high winds   \n",
       "4                      NaN               Urban                    NaN   \n",
       "...                    ...                 ...                    ...   \n",
       "660674  Single carriageway               Rural     Fine no high winds   \n",
       "660675  Single carriageway               Rural     Fine no high winds   \n",
       "660676  Single carriageway               Rural     Fine no high winds   \n",
       "660677  Single carriageway               Rural     Fine no high winds   \n",
       "660678    Dual carriageway               Rural  Snowing no high winds   \n",
       "\n",
       "                                Vehicle_Type  \n",
       "0                                        Car  \n",
       "1                                        Car  \n",
       "2                      Taxi/Private hire car  \n",
       "3       Bus or coach (17 or more pass seats)  \n",
       "4                              Other vehicle  \n",
       "...                                      ...  \n",
       "660674                                   Car  \n",
       "660675                                   Car  \n",
       "660676                                   Car  \n",
       "660677                 Motorcycle over 500cc  \n",
       "660678                                   Car  \n",
       "\n",
       "[660679 rows x 14 columns]"
      ]
     },
     "execution_count": 5,
     "metadata": {},
     "output_type": "execute_result"
    }
   ],
   "source": [
    "accident"
   ]
  },
  {
   "cell_type": "code",
   "execution_count": 6,
   "id": "2bb2d68d-24dd-482b-914d-434f3c0b43f4",
   "metadata": {},
   "outputs": [
    {
     "data": {
      "text/html": [
       "<div>\n",
       "<style scoped>\n",
       "    .dataframe tbody tr th:only-of-type {\n",
       "        vertical-align: middle;\n",
       "    }\n",
       "\n",
       "    .dataframe tbody tr th {\n",
       "        vertical-align: top;\n",
       "    }\n",
       "\n",
       "    .dataframe thead th {\n",
       "        text-align: right;\n",
       "    }\n",
       "</style>\n",
       "<table border=\"1\" class=\"dataframe\">\n",
       "  <thead>\n",
       "    <tr style=\"text-align: right;\">\n",
       "      <th></th>\n",
       "      <th>Latitude</th>\n",
       "      <th>Longitude</th>\n",
       "      <th>Number_of_Casualties</th>\n",
       "      <th>Number_of_Vehicles</th>\n",
       "    </tr>\n",
       "  </thead>\n",
       "  <tbody>\n",
       "    <tr>\n",
       "      <th>count</th>\n",
       "      <td>660654.000000</td>\n",
       "      <td>660653.000000</td>\n",
       "      <td>660679.000000</td>\n",
       "      <td>660679.000000</td>\n",
       "    </tr>\n",
       "    <tr>\n",
       "      <th>mean</th>\n",
       "      <td>52.553866</td>\n",
       "      <td>-1.431210</td>\n",
       "      <td>1.357040</td>\n",
       "      <td>1.831255</td>\n",
       "    </tr>\n",
       "    <tr>\n",
       "      <th>std</th>\n",
       "      <td>1.406922</td>\n",
       "      <td>1.383330</td>\n",
       "      <td>0.824847</td>\n",
       "      <td>0.715269</td>\n",
       "    </tr>\n",
       "    <tr>\n",
       "      <th>min</th>\n",
       "      <td>49.914430</td>\n",
       "      <td>-7.516225</td>\n",
       "      <td>1.000000</td>\n",
       "      <td>1.000000</td>\n",
       "    </tr>\n",
       "    <tr>\n",
       "      <th>25%</th>\n",
       "      <td>51.490690</td>\n",
       "      <td>-2.332291</td>\n",
       "      <td>1.000000</td>\n",
       "      <td>1.000000</td>\n",
       "    </tr>\n",
       "    <tr>\n",
       "      <th>50%</th>\n",
       "      <td>52.315641</td>\n",
       "      <td>-1.411667</td>\n",
       "      <td>1.000000</td>\n",
       "      <td>2.000000</td>\n",
       "    </tr>\n",
       "    <tr>\n",
       "      <th>75%</th>\n",
       "      <td>53.453452</td>\n",
       "      <td>-0.232869</td>\n",
       "      <td>1.000000</td>\n",
       "      <td>2.000000</td>\n",
       "    </tr>\n",
       "    <tr>\n",
       "      <th>max</th>\n",
       "      <td>60.757544</td>\n",
       "      <td>1.762010</td>\n",
       "      <td>68.000000</td>\n",
       "      <td>32.000000</td>\n",
       "    </tr>\n",
       "  </tbody>\n",
       "</table>\n",
       "</div>"
      ],
      "text/plain": [
       "            Latitude      Longitude  Number_of_Casualties  Number_of_Vehicles\n",
       "count  660654.000000  660653.000000         660679.000000       660679.000000\n",
       "mean       52.553866      -1.431210              1.357040            1.831255\n",
       "std         1.406922       1.383330              0.824847            0.715269\n",
       "min        49.914430      -7.516225              1.000000            1.000000\n",
       "25%        51.490690      -2.332291              1.000000            1.000000\n",
       "50%        52.315641      -1.411667              1.000000            2.000000\n",
       "75%        53.453452      -0.232869              1.000000            2.000000\n",
       "max        60.757544       1.762010             68.000000           32.000000"
      ]
     },
     "execution_count": 6,
     "metadata": {},
     "output_type": "execute_result"
    }
   ],
   "source": [
    "accident.describe()"
   ]
  },
  {
   "cell_type": "code",
   "execution_count": 7,
   "id": "72c45b8c-2113-4a52-9381-a919812b047b",
   "metadata": {},
   "outputs": [
    {
     "data": {
      "text/plain": [
       "Index                          0\n",
       "Accident_Severity              0\n",
       "Accident Date                  0\n",
       "Latitude                      25\n",
       "Light_Conditions               0\n",
       "District Area                  0\n",
       "Longitude                     26\n",
       "Number_of_Casualties           0\n",
       "Number_of_Vehicles             0\n",
       "Road_Surface_Conditions      726\n",
       "Road_Type                   4520\n",
       "Urban_or_Rural_Area           15\n",
       "Weather_Conditions         14128\n",
       "Vehicle_Type                   0\n",
       "dtype: int64"
      ]
     },
     "execution_count": 7,
     "metadata": {},
     "output_type": "execute_result"
    }
   ],
   "source": [
    "accident.isnull().sum()"
   ]
  },
  {
   "cell_type": "code",
   "execution_count": 8,
   "id": "976bbb1b-0d95-4cb4-bb59-8ea4baad9c7d",
   "metadata": {},
   "outputs": [
    {
     "data": {
      "text/plain": [
       "0         Serious\n",
       "1         Serious\n",
       "2         Serious\n",
       "3         Serious\n",
       "4          Slight\n",
       "           ...   \n",
       "660674     Slight\n",
       "660675     Slight\n",
       "660676     Slight\n",
       "660677    Serious\n",
       "660678    Serious\n",
       "Name: Accident_Severity, Length: 660679, dtype: object"
      ]
     },
     "execution_count": 8,
     "metadata": {},
     "output_type": "execute_result"
    }
   ],
   "source": [
    "accident['Accident_Severity']"
   ]
  },
  {
   "cell_type": "code",
   "execution_count": 9,
   "id": "3c4f7263-9d5a-4955-8fb3-4cca43e00a62",
   "metadata": {},
   "outputs": [
    {
     "data": {
      "text/plain": [
       "array(['Serious', 'Slight', 'Fatal'], dtype=object)"
      ]
     },
     "execution_count": 9,
     "metadata": {},
     "output_type": "execute_result"
    }
   ],
   "source": [
    "accident['Accident_Severity'].unique()"
   ]
  },
  {
   "cell_type": "code",
   "execution_count": 10,
   "id": "0cc91ca2-0b98-4f3c-9b44-0f4886515341",
   "metadata": {},
   "outputs": [],
   "source": [
    "Serious_df =accident[accident['Accident_Severity'] =='Serious'] "
   ]
  },
  {
   "cell_type": "code",
   "execution_count": 11,
   "id": "3cf904f1-c5f4-48e8-8ea7-f7f126809ec8",
   "metadata": {},
   "outputs": [
    {
     "data": {
      "text/html": [
       "<div>\n",
       "<style scoped>\n",
       "    .dataframe tbody tr th:only-of-type {\n",
       "        vertical-align: middle;\n",
       "    }\n",
       "\n",
       "    .dataframe tbody tr th {\n",
       "        vertical-align: top;\n",
       "    }\n",
       "\n",
       "    .dataframe thead th {\n",
       "        text-align: right;\n",
       "    }\n",
       "</style>\n",
       "<table border=\"1\" class=\"dataframe\">\n",
       "  <thead>\n",
       "    <tr style=\"text-align: right;\">\n",
       "      <th></th>\n",
       "      <th>Index</th>\n",
       "      <th>Accident_Severity</th>\n",
       "      <th>Accident Date</th>\n",
       "      <th>Latitude</th>\n",
       "      <th>Light_Conditions</th>\n",
       "      <th>District Area</th>\n",
       "      <th>Longitude</th>\n",
       "      <th>Number_of_Casualties</th>\n",
       "      <th>Number_of_Vehicles</th>\n",
       "      <th>Road_Surface_Conditions</th>\n",
       "      <th>Road_Type</th>\n",
       "      <th>Urban_or_Rural_Area</th>\n",
       "      <th>Weather_Conditions</th>\n",
       "      <th>Vehicle_Type</th>\n",
       "    </tr>\n",
       "  </thead>\n",
       "  <tbody>\n",
       "    <tr>\n",
       "      <th>0</th>\n",
       "      <td>200701BS64157</td>\n",
       "      <td>Serious</td>\n",
       "      <td>5/6/2019</td>\n",
       "      <td>51.506187</td>\n",
       "      <td>Darkness - lights lit</td>\n",
       "      <td>Kensington and Chelsea</td>\n",
       "      <td>-0.209082</td>\n",
       "      <td>1</td>\n",
       "      <td>2</td>\n",
       "      <td>Dry</td>\n",
       "      <td>Single carriageway</td>\n",
       "      <td>Urban</td>\n",
       "      <td>Fine no high winds</td>\n",
       "      <td>Car</td>\n",
       "    </tr>\n",
       "    <tr>\n",
       "      <th>1</th>\n",
       "      <td>200701BS65737</td>\n",
       "      <td>Serious</td>\n",
       "      <td>2/7/2019</td>\n",
       "      <td>51.495029</td>\n",
       "      <td>Daylight</td>\n",
       "      <td>Kensington and Chelsea</td>\n",
       "      <td>-0.173647</td>\n",
       "      <td>1</td>\n",
       "      <td>2</td>\n",
       "      <td>Wet or damp</td>\n",
       "      <td>Single carriageway</td>\n",
       "      <td>Urban</td>\n",
       "      <td>Raining no high winds</td>\n",
       "      <td>Car</td>\n",
       "    </tr>\n",
       "    <tr>\n",
       "      <th>2</th>\n",
       "      <td>200701BS66127</td>\n",
       "      <td>Serious</td>\n",
       "      <td>26-08-2019</td>\n",
       "      <td>51.517715</td>\n",
       "      <td>Darkness - lighting unknown</td>\n",
       "      <td>Kensington and Chelsea</td>\n",
       "      <td>-0.210215</td>\n",
       "      <td>1</td>\n",
       "      <td>3</td>\n",
       "      <td>Dry</td>\n",
       "      <td>NaN</td>\n",
       "      <td>Urban</td>\n",
       "      <td>NaN</td>\n",
       "      <td>Taxi/Private hire car</td>\n",
       "    </tr>\n",
       "    <tr>\n",
       "      <th>3</th>\n",
       "      <td>200701BS66128</td>\n",
       "      <td>Serious</td>\n",
       "      <td>16-08-2019</td>\n",
       "      <td>51.495478</td>\n",
       "      <td>Daylight</td>\n",
       "      <td>Kensington and Chelsea</td>\n",
       "      <td>-0.202731</td>\n",
       "      <td>1</td>\n",
       "      <td>4</td>\n",
       "      <td>Dry</td>\n",
       "      <td>Single carriageway</td>\n",
       "      <td>Urban</td>\n",
       "      <td>Fine no high winds</td>\n",
       "      <td>Bus or coach (17 or more pass seats)</td>\n",
       "    </tr>\n",
       "    <tr>\n",
       "      <th>5</th>\n",
       "      <td>200701BS67159</td>\n",
       "      <td>Serious</td>\n",
       "      <td>18-09-2019</td>\n",
       "      <td>51.497750</td>\n",
       "      <td>Daylight</td>\n",
       "      <td>Kensington and Chelsea</td>\n",
       "      <td>-0.192556</td>\n",
       "      <td>2</td>\n",
       "      <td>3</td>\n",
       "      <td>Dry</td>\n",
       "      <td>Single carriageway</td>\n",
       "      <td>Urban</td>\n",
       "      <td>Fine no high winds</td>\n",
       "      <td>Car</td>\n",
       "    </tr>\n",
       "    <tr>\n",
       "      <th>...</th>\n",
       "      <td>...</td>\n",
       "      <td>...</td>\n",
       "      <td>...</td>\n",
       "      <td>...</td>\n",
       "      <td>...</td>\n",
       "      <td>...</td>\n",
       "      <td>...</td>\n",
       "      <td>...</td>\n",
       "      <td>...</td>\n",
       "      <td>...</td>\n",
       "      <td>...</td>\n",
       "      <td>...</td>\n",
       "      <td>...</td>\n",
       "      <td>...</td>\n",
       "    </tr>\n",
       "    <tr>\n",
       "      <th>660629</th>\n",
       "      <td>201091NL00686</td>\n",
       "      <td>Serious</td>\n",
       "      <td>11/2/2022</td>\n",
       "      <td>57.687933</td>\n",
       "      <td>Daylight</td>\n",
       "      <td>Shetland Islands</td>\n",
       "      <td>-4.176860</td>\n",
       "      <td>1</td>\n",
       "      <td>2</td>\n",
       "      <td>Dry</td>\n",
       "      <td>Single carriageway</td>\n",
       "      <td>Rural</td>\n",
       "      <td>Fine + high winds</td>\n",
       "      <td>Car</td>\n",
       "    </tr>\n",
       "    <tr>\n",
       "      <th>660645</th>\n",
       "      <td>201091NL05842</td>\n",
       "      <td>Serious</td>\n",
       "      <td>18-10-2022</td>\n",
       "      <td>60.162660</td>\n",
       "      <td>Daylight</td>\n",
       "      <td>Shetland Islands</td>\n",
       "      <td>-1.165232</td>\n",
       "      <td>1</td>\n",
       "      <td>1</td>\n",
       "      <td>Dry</td>\n",
       "      <td>Single carriageway</td>\n",
       "      <td>Rural</td>\n",
       "      <td>Fine + high winds</td>\n",
       "      <td>Car</td>\n",
       "    </tr>\n",
       "    <tr>\n",
       "      <th>660672</th>\n",
       "      <td>201091NM01085</td>\n",
       "      <td>Serious</td>\n",
       "      <td>29-01-2022</td>\n",
       "      <td>57.170725</td>\n",
       "      <td>Daylight</td>\n",
       "      <td>Highland</td>\n",
       "      <td>-3.852421</td>\n",
       "      <td>1</td>\n",
       "      <td>2</td>\n",
       "      <td>Snow</td>\n",
       "      <td>Single carriageway</td>\n",
       "      <td>Rural</td>\n",
       "      <td>Fine no high winds</td>\n",
       "      <td>Car</td>\n",
       "    </tr>\n",
       "    <tr>\n",
       "      <th>660677</th>\n",
       "      <td>201091NM01964</td>\n",
       "      <td>Serious</td>\n",
       "      <td>23-02-2022</td>\n",
       "      <td>57.214898</td>\n",
       "      <td>Darkness - no lighting</td>\n",
       "      <td>Highland</td>\n",
       "      <td>-3.823997</td>\n",
       "      <td>1</td>\n",
       "      <td>2</td>\n",
       "      <td>Wet or damp</td>\n",
       "      <td>Single carriageway</td>\n",
       "      <td>Rural</td>\n",
       "      <td>Fine no high winds</td>\n",
       "      <td>Motorcycle over 500cc</td>\n",
       "    </tr>\n",
       "    <tr>\n",
       "      <th>660678</th>\n",
       "      <td>201091NM02142</td>\n",
       "      <td>Serious</td>\n",
       "      <td>28-02-2022</td>\n",
       "      <td>57.575210</td>\n",
       "      <td>Daylight</td>\n",
       "      <td>Highland</td>\n",
       "      <td>-3.895673</td>\n",
       "      <td>1</td>\n",
       "      <td>1</td>\n",
       "      <td>Wet or damp</td>\n",
       "      <td>Dual carriageway</td>\n",
       "      <td>Rural</td>\n",
       "      <td>Snowing no high winds</td>\n",
       "      <td>Car</td>\n",
       "    </tr>\n",
       "  </tbody>\n",
       "</table>\n",
       "<p>88217 rows × 14 columns</p>\n",
       "</div>"
      ],
      "text/plain": [
       "                Index Accident_Severity Accident Date   Latitude  \\\n",
       "0       200701BS64157           Serious      5/6/2019  51.506187   \n",
       "1       200701BS65737           Serious      2/7/2019  51.495029   \n",
       "2       200701BS66127           Serious    26-08-2019  51.517715   \n",
       "3       200701BS66128           Serious    16-08-2019  51.495478   \n",
       "5       200701BS67159           Serious    18-09-2019  51.497750   \n",
       "...               ...               ...           ...        ...   \n",
       "660629  201091NL00686           Serious     11/2/2022  57.687933   \n",
       "660645  201091NL05842           Serious    18-10-2022  60.162660   \n",
       "660672  201091NM01085           Serious    29-01-2022  57.170725   \n",
       "660677  201091NM01964           Serious    23-02-2022  57.214898   \n",
       "660678  201091NM02142           Serious    28-02-2022  57.575210   \n",
       "\n",
       "                   Light_Conditions           District Area  Longitude  \\\n",
       "0             Darkness - lights lit  Kensington and Chelsea  -0.209082   \n",
       "1                          Daylight  Kensington and Chelsea  -0.173647   \n",
       "2       Darkness - lighting unknown  Kensington and Chelsea  -0.210215   \n",
       "3                          Daylight  Kensington and Chelsea  -0.202731   \n",
       "5                          Daylight  Kensington and Chelsea  -0.192556   \n",
       "...                             ...                     ...        ...   \n",
       "660629                     Daylight        Shetland Islands  -4.176860   \n",
       "660645                     Daylight        Shetland Islands  -1.165232   \n",
       "660672                     Daylight                Highland  -3.852421   \n",
       "660677       Darkness - no lighting                Highland  -3.823997   \n",
       "660678                     Daylight                Highland  -3.895673   \n",
       "\n",
       "        Number_of_Casualties  Number_of_Vehicles Road_Surface_Conditions  \\\n",
       "0                          1                   2                     Dry   \n",
       "1                          1                   2             Wet or damp   \n",
       "2                          1                   3                     Dry   \n",
       "3                          1                   4                     Dry   \n",
       "5                          2                   3                     Dry   \n",
       "...                      ...                 ...                     ...   \n",
       "660629                     1                   2                     Dry   \n",
       "660645                     1                   1                     Dry   \n",
       "660672                     1                   2                    Snow   \n",
       "660677                     1                   2             Wet or damp   \n",
       "660678                     1                   1             Wet or damp   \n",
       "\n",
       "                 Road_Type Urban_or_Rural_Area     Weather_Conditions  \\\n",
       "0       Single carriageway               Urban     Fine no high winds   \n",
       "1       Single carriageway               Urban  Raining no high winds   \n",
       "2                      NaN               Urban                    NaN   \n",
       "3       Single carriageway               Urban     Fine no high winds   \n",
       "5       Single carriageway               Urban     Fine no high winds   \n",
       "...                    ...                 ...                    ...   \n",
       "660629  Single carriageway               Rural      Fine + high winds   \n",
       "660645  Single carriageway               Rural      Fine + high winds   \n",
       "660672  Single carriageway               Rural     Fine no high winds   \n",
       "660677  Single carriageway               Rural     Fine no high winds   \n",
       "660678    Dual carriageway               Rural  Snowing no high winds   \n",
       "\n",
       "                                Vehicle_Type  \n",
       "0                                        Car  \n",
       "1                                        Car  \n",
       "2                      Taxi/Private hire car  \n",
       "3       Bus or coach (17 or more pass seats)  \n",
       "5                                        Car  \n",
       "...                                      ...  \n",
       "660629                                   Car  \n",
       "660645                                   Car  \n",
       "660672                                   Car  \n",
       "660677                 Motorcycle over 500cc  \n",
       "660678                                   Car  \n",
       "\n",
       "[88217 rows x 14 columns]"
      ]
     },
     "execution_count": 11,
     "metadata": {},
     "output_type": "execute_result"
    }
   ],
   "source": [
    "Serious_df"
   ]
  },
  {
   "cell_type": "code",
   "execution_count": 12,
   "id": "369c24ec-8377-4639-8111-e89d4b0067aa",
   "metadata": {},
   "outputs": [],
   "source": [
    "Slight_df = accident[accident['Accident_Severity'] =='Slight'] "
   ]
  },
  {
   "cell_type": "code",
   "execution_count": 13,
   "id": "5f947017-1780-4677-b007-8a27c92ab613",
   "metadata": {},
   "outputs": [
    {
     "data": {
      "text/html": [
       "<div>\n",
       "<style scoped>\n",
       "    .dataframe tbody tr th:only-of-type {\n",
       "        vertical-align: middle;\n",
       "    }\n",
       "\n",
       "    .dataframe tbody tr th {\n",
       "        vertical-align: top;\n",
       "    }\n",
       "\n",
       "    .dataframe thead th {\n",
       "        text-align: right;\n",
       "    }\n",
       "</style>\n",
       "<table border=\"1\" class=\"dataframe\">\n",
       "  <thead>\n",
       "    <tr style=\"text-align: right;\">\n",
       "      <th></th>\n",
       "      <th>Index</th>\n",
       "      <th>Accident_Severity</th>\n",
       "      <th>Accident Date</th>\n",
       "      <th>Latitude</th>\n",
       "      <th>Light_Conditions</th>\n",
       "      <th>District Area</th>\n",
       "      <th>Longitude</th>\n",
       "      <th>Number_of_Casualties</th>\n",
       "      <th>Number_of_Vehicles</th>\n",
       "      <th>Road_Surface_Conditions</th>\n",
       "      <th>Road_Type</th>\n",
       "      <th>Urban_or_Rural_Area</th>\n",
       "      <th>Weather_Conditions</th>\n",
       "      <th>Vehicle_Type</th>\n",
       "    </tr>\n",
       "  </thead>\n",
       "  <tbody>\n",
       "    <tr>\n",
       "      <th>4</th>\n",
       "      <td>200701BS66837</td>\n",
       "      <td>Slight</td>\n",
       "      <td>3/9/2019</td>\n",
       "      <td>51.488576</td>\n",
       "      <td>Darkness - lights lit</td>\n",
       "      <td>Kensington and Chelsea</td>\n",
       "      <td>-0.192487</td>\n",
       "      <td>1</td>\n",
       "      <td>2</td>\n",
       "      <td>Dry</td>\n",
       "      <td>NaN</td>\n",
       "      <td>Urban</td>\n",
       "      <td>NaN</td>\n",
       "      <td>Other vehicle</td>\n",
       "    </tr>\n",
       "    <tr>\n",
       "      <th>8</th>\n",
       "      <td>200701BS67515</td>\n",
       "      <td>Slight</td>\n",
       "      <td>31-10-2019</td>\n",
       "      <td>51.493319</td>\n",
       "      <td>Darkness - lights lit</td>\n",
       "      <td>Kensington and Chelsea</td>\n",
       "      <td>-0.173572</td>\n",
       "      <td>1</td>\n",
       "      <td>2</td>\n",
       "      <td>Dry</td>\n",
       "      <td>Single carriageway</td>\n",
       "      <td>Urban</td>\n",
       "      <td>Fine no high winds</td>\n",
       "      <td>Car</td>\n",
       "    </tr>\n",
       "    <tr>\n",
       "      <th>9</th>\n",
       "      <td>200701BS67543</td>\n",
       "      <td>Slight</td>\n",
       "      <td>18-10-2019</td>\n",
       "      <td>51.484539</td>\n",
       "      <td>Daylight</td>\n",
       "      <td>Kensington and Chelsea</td>\n",
       "      <td>-0.175651</td>\n",
       "      <td>1</td>\n",
       "      <td>2</td>\n",
       "      <td>Dry</td>\n",
       "      <td>Single carriageway</td>\n",
       "      <td>Urban</td>\n",
       "      <td>Fine no high winds</td>\n",
       "      <td>Motorcycle over 125cc and up to 500cc</td>\n",
       "    </tr>\n",
       "    <tr>\n",
       "      <th>13</th>\n",
       "      <td>200701BS67853</td>\n",
       "      <td>Slight</td>\n",
       "      <td>8/11/2019</td>\n",
       "      <td>51.508999</td>\n",
       "      <td>Darkness - lights lit</td>\n",
       "      <td>Kensington and Chelsea</td>\n",
       "      <td>-0.210701</td>\n",
       "      <td>3</td>\n",
       "      <td>2</td>\n",
       "      <td>Wet or damp</td>\n",
       "      <td>Single carriageway</td>\n",
       "      <td>Urban</td>\n",
       "      <td>Other</td>\n",
       "      <td>Car</td>\n",
       "    </tr>\n",
       "    <tr>\n",
       "      <th>14</th>\n",
       "      <td>200701BS67859</td>\n",
       "      <td>Slight</td>\n",
       "      <td>1/11/2019</td>\n",
       "      <td>51.485125</td>\n",
       "      <td>Darkness - lights lit</td>\n",
       "      <td>Kensington and Chelsea</td>\n",
       "      <td>-0.167129</td>\n",
       "      <td>1</td>\n",
       "      <td>1</td>\n",
       "      <td>Dry</td>\n",
       "      <td>One way street</td>\n",
       "      <td>Urban</td>\n",
       "      <td>Fine no high winds</td>\n",
       "      <td>Car</td>\n",
       "    </tr>\n",
       "    <tr>\n",
       "      <th>...</th>\n",
       "      <td>...</td>\n",
       "      <td>...</td>\n",
       "      <td>...</td>\n",
       "      <td>...</td>\n",
       "      <td>...</td>\n",
       "      <td>...</td>\n",
       "      <td>...</td>\n",
       "      <td>...</td>\n",
       "      <td>...</td>\n",
       "      <td>...</td>\n",
       "      <td>...</td>\n",
       "      <td>...</td>\n",
       "      <td>...</td>\n",
       "      <td>...</td>\n",
       "    </tr>\n",
       "    <tr>\n",
       "      <th>660671</th>\n",
       "      <td>201091NM01053</td>\n",
       "      <td>Slight</td>\n",
       "      <td>29-01-2022</td>\n",
       "      <td>57.572162</td>\n",
       "      <td>Daylight</td>\n",
       "      <td>Highland</td>\n",
       "      <td>-3.930799</td>\n",
       "      <td>1</td>\n",
       "      <td>1</td>\n",
       "      <td>Frost or ice</td>\n",
       "      <td>Single carriageway</td>\n",
       "      <td>Rural</td>\n",
       "      <td>Other</td>\n",
       "      <td>Van / Goods 3.5 tonnes mgw or under</td>\n",
       "    </tr>\n",
       "    <tr>\n",
       "      <th>660673</th>\n",
       "      <td>201091NM01190</td>\n",
       "      <td>Slight</td>\n",
       "      <td>2/2/2022</td>\n",
       "      <td>57.585152</td>\n",
       "      <td>Daylight</td>\n",
       "      <td>Highland</td>\n",
       "      <td>-3.748312</td>\n",
       "      <td>2</td>\n",
       "      <td>2</td>\n",
       "      <td>Wet or damp</td>\n",
       "      <td>Single carriageway</td>\n",
       "      <td>Rural</td>\n",
       "      <td>Fine no high winds</td>\n",
       "      <td>Car</td>\n",
       "    </tr>\n",
       "    <tr>\n",
       "      <th>660674</th>\n",
       "      <td>201091NM01760</td>\n",
       "      <td>Slight</td>\n",
       "      <td>18-02-2022</td>\n",
       "      <td>57.374005</td>\n",
       "      <td>Daylight</td>\n",
       "      <td>Highland</td>\n",
       "      <td>-3.467828</td>\n",
       "      <td>2</td>\n",
       "      <td>1</td>\n",
       "      <td>Dry</td>\n",
       "      <td>Single carriageway</td>\n",
       "      <td>Rural</td>\n",
       "      <td>Fine no high winds</td>\n",
       "      <td>Car</td>\n",
       "    </tr>\n",
       "    <tr>\n",
       "      <th>660675</th>\n",
       "      <td>201091NM01881</td>\n",
       "      <td>Slight</td>\n",
       "      <td>21-02-2022</td>\n",
       "      <td>57.232273</td>\n",
       "      <td>Darkness - no lighting</td>\n",
       "      <td>Highland</td>\n",
       "      <td>-3.809281</td>\n",
       "      <td>1</td>\n",
       "      <td>1</td>\n",
       "      <td>Frost or ice</td>\n",
       "      <td>Single carriageway</td>\n",
       "      <td>Rural</td>\n",
       "      <td>Fine no high winds</td>\n",
       "      <td>Car</td>\n",
       "    </tr>\n",
       "    <tr>\n",
       "      <th>660676</th>\n",
       "      <td>201091NM01935</td>\n",
       "      <td>Slight</td>\n",
       "      <td>23-02-2022</td>\n",
       "      <td>57.585044</td>\n",
       "      <td>Daylight</td>\n",
       "      <td>Highland</td>\n",
       "      <td>-3.862727</td>\n",
       "      <td>1</td>\n",
       "      <td>3</td>\n",
       "      <td>Frost or ice</td>\n",
       "      <td>Single carriageway</td>\n",
       "      <td>Rural</td>\n",
       "      <td>Fine no high winds</td>\n",
       "      <td>Car</td>\n",
       "    </tr>\n",
       "  </tbody>\n",
       "</table>\n",
       "<p>563801 rows × 14 columns</p>\n",
       "</div>"
      ],
      "text/plain": [
       "                Index Accident_Severity Accident Date   Latitude  \\\n",
       "4       200701BS66837            Slight      3/9/2019  51.488576   \n",
       "8       200701BS67515            Slight    31-10-2019  51.493319   \n",
       "9       200701BS67543            Slight    18-10-2019  51.484539   \n",
       "13      200701BS67853            Slight     8/11/2019  51.508999   \n",
       "14      200701BS67859            Slight     1/11/2019  51.485125   \n",
       "...               ...               ...           ...        ...   \n",
       "660671  201091NM01053            Slight    29-01-2022  57.572162   \n",
       "660673  201091NM01190            Slight      2/2/2022  57.585152   \n",
       "660674  201091NM01760            Slight    18-02-2022  57.374005   \n",
       "660675  201091NM01881            Slight    21-02-2022  57.232273   \n",
       "660676  201091NM01935            Slight    23-02-2022  57.585044   \n",
       "\n",
       "              Light_Conditions           District Area  Longitude  \\\n",
       "4        Darkness - lights lit  Kensington and Chelsea  -0.192487   \n",
       "8        Darkness - lights lit  Kensington and Chelsea  -0.173572   \n",
       "9                     Daylight  Kensington and Chelsea  -0.175651   \n",
       "13       Darkness - lights lit  Kensington and Chelsea  -0.210701   \n",
       "14       Darkness - lights lit  Kensington and Chelsea  -0.167129   \n",
       "...                        ...                     ...        ...   \n",
       "660671                Daylight                Highland  -3.930799   \n",
       "660673                Daylight                Highland  -3.748312   \n",
       "660674                Daylight                Highland  -3.467828   \n",
       "660675  Darkness - no lighting                Highland  -3.809281   \n",
       "660676                Daylight                Highland  -3.862727   \n",
       "\n",
       "        Number_of_Casualties  Number_of_Vehicles Road_Surface_Conditions  \\\n",
       "4                          1                   2                     Dry   \n",
       "8                          1                   2                     Dry   \n",
       "9                          1                   2                     Dry   \n",
       "13                         3                   2             Wet or damp   \n",
       "14                         1                   1                     Dry   \n",
       "...                      ...                 ...                     ...   \n",
       "660671                     1                   1            Frost or ice   \n",
       "660673                     2                   2             Wet or damp   \n",
       "660674                     2                   1                     Dry   \n",
       "660675                     1                   1            Frost or ice   \n",
       "660676                     1                   3            Frost or ice   \n",
       "\n",
       "                 Road_Type Urban_or_Rural_Area  Weather_Conditions  \\\n",
       "4                      NaN               Urban                 NaN   \n",
       "8       Single carriageway               Urban  Fine no high winds   \n",
       "9       Single carriageway               Urban  Fine no high winds   \n",
       "13      Single carriageway               Urban               Other   \n",
       "14          One way street               Urban  Fine no high winds   \n",
       "...                    ...                 ...                 ...   \n",
       "660671  Single carriageway               Rural               Other   \n",
       "660673  Single carriageway               Rural  Fine no high winds   \n",
       "660674  Single carriageway               Rural  Fine no high winds   \n",
       "660675  Single carriageway               Rural  Fine no high winds   \n",
       "660676  Single carriageway               Rural  Fine no high winds   \n",
       "\n",
       "                                 Vehicle_Type  \n",
       "4                               Other vehicle  \n",
       "8                                         Car  \n",
       "9       Motorcycle over 125cc and up to 500cc  \n",
       "13                                        Car  \n",
       "14                                        Car  \n",
       "...                                       ...  \n",
       "660671    Van / Goods 3.5 tonnes mgw or under  \n",
       "660673                                    Car  \n",
       "660674                                    Car  \n",
       "660675                                    Car  \n",
       "660676                                    Car  \n",
       "\n",
       "[563801 rows x 14 columns]"
      ]
     },
     "execution_count": 13,
     "metadata": {},
     "output_type": "execute_result"
    }
   ],
   "source": [
    "Slight_df"
   ]
  },
  {
   "cell_type": "code",
   "execution_count": 14,
   "id": "7cb2471c-1158-42f6-bb13-dd1886bd12c8",
   "metadata": {},
   "outputs": [],
   "source": [
    "Fatal_df = accident[accident['Accident_Severity'] =='Fatal'] "
   ]
  },
  {
   "cell_type": "code",
   "execution_count": 15,
   "id": "91eab0b4-8263-4663-83e2-bab8628b5e73",
   "metadata": {},
   "outputs": [
    {
     "data": {
      "text/html": [
       "<div>\n",
       "<style scoped>\n",
       "    .dataframe tbody tr th:only-of-type {\n",
       "        vertical-align: middle;\n",
       "    }\n",
       "\n",
       "    .dataframe tbody tr th {\n",
       "        vertical-align: top;\n",
       "    }\n",
       "\n",
       "    .dataframe thead th {\n",
       "        text-align: right;\n",
       "    }\n",
       "</style>\n",
       "<table border=\"1\" class=\"dataframe\">\n",
       "  <thead>\n",
       "    <tr style=\"text-align: right;\">\n",
       "      <th></th>\n",
       "      <th>Index</th>\n",
       "      <th>Accident_Severity</th>\n",
       "      <th>Accident Date</th>\n",
       "      <th>Latitude</th>\n",
       "      <th>Light_Conditions</th>\n",
       "      <th>District Area</th>\n",
       "      <th>Longitude</th>\n",
       "      <th>Number_of_Casualties</th>\n",
       "      <th>Number_of_Vehicles</th>\n",
       "      <th>Road_Surface_Conditions</th>\n",
       "      <th>Road_Type</th>\n",
       "      <th>Urban_or_Rural_Area</th>\n",
       "      <th>Weather_Conditions</th>\n",
       "      <th>Vehicle_Type</th>\n",
       "    </tr>\n",
       "  </thead>\n",
       "  <tbody>\n",
       "    <tr>\n",
       "      <th>7</th>\n",
       "      <td>200701BS67370</td>\n",
       "      <td>Fatal</td>\n",
       "      <td>3/10/2019</td>\n",
       "      <td>51.482260</td>\n",
       "      <td>Darkness - lights lit</td>\n",
       "      <td>Kensington and Chelsea</td>\n",
       "      <td>-0.179486</td>\n",
       "      <td>3</td>\n",
       "      <td>2</td>\n",
       "      <td>Dry</td>\n",
       "      <td>Single carriageway</td>\n",
       "      <td>Urban</td>\n",
       "      <td>Fine no high winds</td>\n",
       "      <td>Car</td>\n",
       "    </tr>\n",
       "    <tr>\n",
       "      <th>11</th>\n",
       "      <td>200701BS67747</td>\n",
       "      <td>Fatal</td>\n",
       "      <td>2/11/2019</td>\n",
       "      <td>51.499127</td>\n",
       "      <td>Daylight</td>\n",
       "      <td>Kensington and Chelsea</td>\n",
       "      <td>-0.159652</td>\n",
       "      <td>1</td>\n",
       "      <td>2</td>\n",
       "      <td>Dry</td>\n",
       "      <td>Single carriageway</td>\n",
       "      <td>Urban</td>\n",
       "      <td>Fine no high winds</td>\n",
       "      <td>Bus or coach (17 or more pass seats)</td>\n",
       "    </tr>\n",
       "    <tr>\n",
       "      <th>20</th>\n",
       "      <td>200701BS68301</td>\n",
       "      <td>Fatal</td>\n",
       "      <td>24-10-2019</td>\n",
       "      <td>51.505996</td>\n",
       "      <td>Daylight</td>\n",
       "      <td>Kensington and Chelsea</td>\n",
       "      <td>-0.214277</td>\n",
       "      <td>1</td>\n",
       "      <td>1</td>\n",
       "      <td>Dry</td>\n",
       "      <td>Single carriageway</td>\n",
       "      <td>Urban</td>\n",
       "      <td>Fine no high winds</td>\n",
       "      <td>Car</td>\n",
       "    </tr>\n",
       "    <tr>\n",
       "      <th>21</th>\n",
       "      <td>200701BS68302</td>\n",
       "      <td>Fatal</td>\n",
       "      <td>24-11-2019</td>\n",
       "      <td>51.486795</td>\n",
       "      <td>Daylight</td>\n",
       "      <td>Kensington and Chelsea</td>\n",
       "      <td>-0.170375</td>\n",
       "      <td>5</td>\n",
       "      <td>1</td>\n",
       "      <td>Dry</td>\n",
       "      <td>Single carriageway</td>\n",
       "      <td>Urban</td>\n",
       "      <td>Fine no high winds</td>\n",
       "      <td>Car</td>\n",
       "    </tr>\n",
       "    <tr>\n",
       "      <th>717</th>\n",
       "      <td>200701CP00032</td>\n",
       "      <td>Fatal</td>\n",
       "      <td>30-01-2019</td>\n",
       "      <td>51.510978</td>\n",
       "      <td>Daylight</td>\n",
       "      <td>City of London</td>\n",
       "      <td>-0.107581</td>\n",
       "      <td>1</td>\n",
       "      <td>2</td>\n",
       "      <td>Wet or damp</td>\n",
       "      <td>Dual carriageway</td>\n",
       "      <td>Urban</td>\n",
       "      <td>Fine no high winds</td>\n",
       "      <td>Car</td>\n",
       "    </tr>\n",
       "    <tr>\n",
       "      <th>...</th>\n",
       "      <td>...</td>\n",
       "      <td>...</td>\n",
       "      <td>...</td>\n",
       "      <td>...</td>\n",
       "      <td>...</td>\n",
       "      <td>...</td>\n",
       "      <td>...</td>\n",
       "      <td>...</td>\n",
       "      <td>...</td>\n",
       "      <td>...</td>\n",
       "      <td>...</td>\n",
       "      <td>...</td>\n",
       "      <td>...</td>\n",
       "      <td>...</td>\n",
       "    </tr>\n",
       "    <tr>\n",
       "      <th>660470</th>\n",
       "      <td>201091NH00529</td>\n",
       "      <td>Fatal</td>\n",
       "      <td>29-01-2022</td>\n",
       "      <td>58.475726</td>\n",
       "      <td>Daylight</td>\n",
       "      <td>Western Isles</td>\n",
       "      <td>-6.278583</td>\n",
       "      <td>1</td>\n",
       "      <td>1</td>\n",
       "      <td>Wet or damp</td>\n",
       "      <td>Single carriageway</td>\n",
       "      <td>Rural</td>\n",
       "      <td>Fine + high winds</td>\n",
       "      <td>Car</td>\n",
       "    </tr>\n",
       "    <tr>\n",
       "      <th>660519</th>\n",
       "      <td>201091NJ01533</td>\n",
       "      <td>Fatal</td>\n",
       "      <td>2/2/2022</td>\n",
       "      <td>58.495554</td>\n",
       "      <td>Daylight</td>\n",
       "      <td>Highland</td>\n",
       "      <td>-4.451628</td>\n",
       "      <td>1</td>\n",
       "      <td>1</td>\n",
       "      <td>Snow</td>\n",
       "      <td>Single carriageway</td>\n",
       "      <td>Rural</td>\n",
       "      <td>Snowing no high winds</td>\n",
       "      <td>Car</td>\n",
       "    </tr>\n",
       "    <tr>\n",
       "      <th>660565</th>\n",
       "      <td>201091NJ11329</td>\n",
       "      <td>Fatal</td>\n",
       "      <td>15-08-2022</td>\n",
       "      <td>57.871514</td>\n",
       "      <td>Daylight</td>\n",
       "      <td>Highland</td>\n",
       "      <td>-4.243081</td>\n",
       "      <td>1</td>\n",
       "      <td>1</td>\n",
       "      <td>Dry</td>\n",
       "      <td>Single carriageway</td>\n",
       "      <td>Rural</td>\n",
       "      <td>Fine no high winds</td>\n",
       "      <td>Goods 7.5 tonnes mgw and over</td>\n",
       "    </tr>\n",
       "    <tr>\n",
       "      <th>660581</th>\n",
       "      <td>201091NJ14695</td>\n",
       "      <td>Fatal</td>\n",
       "      <td>21-10-2022</td>\n",
       "      <td>58.445475</td>\n",
       "      <td>Darkness - lights lit</td>\n",
       "      <td>Highland</td>\n",
       "      <td>-3.065535</td>\n",
       "      <td>1</td>\n",
       "      <td>1</td>\n",
       "      <td>Wet or damp</td>\n",
       "      <td>Single carriageway</td>\n",
       "      <td>Rural</td>\n",
       "      <td>Fine no high winds</td>\n",
       "      <td>Car</td>\n",
       "    </tr>\n",
       "    <tr>\n",
       "      <th>660627</th>\n",
       "      <td>201091NL00060</td>\n",
       "      <td>Fatal</td>\n",
       "      <td>6/1/2022</td>\n",
       "      <td>60.241195</td>\n",
       "      <td>Daylight</td>\n",
       "      <td>Shetland Islands</td>\n",
       "      <td>-1.409761</td>\n",
       "      <td>3</td>\n",
       "      <td>1</td>\n",
       "      <td>Snow</td>\n",
       "      <td>Single carriageway</td>\n",
       "      <td>Rural</td>\n",
       "      <td>Fine no high winds</td>\n",
       "      <td>Van / Goods 3.5 tonnes mgw or under</td>\n",
       "    </tr>\n",
       "  </tbody>\n",
       "</table>\n",
       "<p>8661 rows × 14 columns</p>\n",
       "</div>"
      ],
      "text/plain": [
       "                Index Accident_Severity Accident Date   Latitude  \\\n",
       "7       200701BS67370             Fatal     3/10/2019  51.482260   \n",
       "11      200701BS67747             Fatal     2/11/2019  51.499127   \n",
       "20      200701BS68301             Fatal    24-10-2019  51.505996   \n",
       "21      200701BS68302             Fatal    24-11-2019  51.486795   \n",
       "717     200701CP00032             Fatal    30-01-2019  51.510978   \n",
       "...               ...               ...           ...        ...   \n",
       "660470  201091NH00529             Fatal    29-01-2022  58.475726   \n",
       "660519  201091NJ01533             Fatal      2/2/2022  58.495554   \n",
       "660565  201091NJ11329             Fatal    15-08-2022  57.871514   \n",
       "660581  201091NJ14695             Fatal    21-10-2022  58.445475   \n",
       "660627  201091NL00060             Fatal      6/1/2022  60.241195   \n",
       "\n",
       "             Light_Conditions           District Area  Longitude  \\\n",
       "7       Darkness - lights lit  Kensington and Chelsea  -0.179486   \n",
       "11                   Daylight  Kensington and Chelsea  -0.159652   \n",
       "20                   Daylight  Kensington and Chelsea  -0.214277   \n",
       "21                   Daylight  Kensington and Chelsea  -0.170375   \n",
       "717                  Daylight          City of London  -0.107581   \n",
       "...                       ...                     ...        ...   \n",
       "660470               Daylight           Western Isles  -6.278583   \n",
       "660519               Daylight                Highland  -4.451628   \n",
       "660565               Daylight                Highland  -4.243081   \n",
       "660581  Darkness - lights lit                Highland  -3.065535   \n",
       "660627               Daylight        Shetland Islands  -1.409761   \n",
       "\n",
       "        Number_of_Casualties  Number_of_Vehicles Road_Surface_Conditions  \\\n",
       "7                          3                   2                     Dry   \n",
       "11                         1                   2                     Dry   \n",
       "20                         1                   1                     Dry   \n",
       "21                         5                   1                     Dry   \n",
       "717                        1                   2             Wet or damp   \n",
       "...                      ...                 ...                     ...   \n",
       "660470                     1                   1             Wet or damp   \n",
       "660519                     1                   1                    Snow   \n",
       "660565                     1                   1                     Dry   \n",
       "660581                     1                   1             Wet or damp   \n",
       "660627                     3                   1                    Snow   \n",
       "\n",
       "                 Road_Type Urban_or_Rural_Area     Weather_Conditions  \\\n",
       "7       Single carriageway               Urban     Fine no high winds   \n",
       "11      Single carriageway               Urban     Fine no high winds   \n",
       "20      Single carriageway               Urban     Fine no high winds   \n",
       "21      Single carriageway               Urban     Fine no high winds   \n",
       "717       Dual carriageway               Urban     Fine no high winds   \n",
       "...                    ...                 ...                    ...   \n",
       "660470  Single carriageway               Rural      Fine + high winds   \n",
       "660519  Single carriageway               Rural  Snowing no high winds   \n",
       "660565  Single carriageway               Rural     Fine no high winds   \n",
       "660581  Single carriageway               Rural     Fine no high winds   \n",
       "660627  Single carriageway               Rural     Fine no high winds   \n",
       "\n",
       "                                Vehicle_Type  \n",
       "7                                        Car  \n",
       "11      Bus or coach (17 or more pass seats)  \n",
       "20                                       Car  \n",
       "21                                       Car  \n",
       "717                                      Car  \n",
       "...                                      ...  \n",
       "660470                                   Car  \n",
       "660519                                   Car  \n",
       "660565         Goods 7.5 tonnes mgw and over  \n",
       "660581                                   Car  \n",
       "660627   Van / Goods 3.5 tonnes mgw or under  \n",
       "\n",
       "[8661 rows x 14 columns]"
      ]
     },
     "execution_count": 15,
     "metadata": {},
     "output_type": "execute_result"
    }
   ],
   "source": [
    "Fatal_df"
   ]
  },
  {
   "cell_type": "markdown",
   "id": "51d4e721-7dd2-413a-8c1d-344290291244",
   "metadata": {},
   "source": [
    "<h1>QUESTIONS</h1>"
   ]
  },
  {
   "cell_type": "markdown",
   "id": "7b8dc159-ec23-40ea-b15c-77e4d1a6d2fd",
   "metadata": {},
   "source": [
    "<h2>1.How many accidents are there under each severity?</h2>"
   ]
  },
  {
   "cell_type": "code",
   "execution_count": 16,
   "id": "82c16504-0f63-4867-8a03-1500642174d6",
   "metadata": {},
   "outputs": [
    {
     "data": {
      "text/plain": [
       "Accident_Severity\n",
       "Slight     563801\n",
       "Serious     88217\n",
       "Fatal        8661\n",
       "Name: count, dtype: int64"
      ]
     },
     "execution_count": 16,
     "metadata": {},
     "output_type": "execute_result"
    }
   ],
   "source": [
    "accident['Accident_Severity'].value_counts()"
   ]
  },
  {
   "cell_type": "markdown",
   "id": "37837145-a186-416e-a994-ad84cb3795eb",
   "metadata": {},
   "source": [
    "<h2>INSIGHT:</h2>\n"
   ]
  },
  {
   "cell_type": "markdown",
   "id": "43580199-189f-4ee8-9d50-9b758fcfa702",
   "metadata": {},
   "source": [
    "<h3>There are 563,801 accidents under slight severity, serious with 88,217 and fatal with 8,661.</h3>"
   ]
  },
  {
   "cell_type": "markdown",
   "id": "48280188-3df3-4e6d-86a1-db3bf016c5e9",
   "metadata": {},
   "source": [
    "<h2>2.Which district area has the most accident report?</h2>"
   ]
  },
  {
   "cell_type": "code",
   "execution_count": 17,
   "id": "8cc37321-07bc-46a2-81fa-763fc5575451",
   "metadata": {},
   "outputs": [
    {
     "data": {
      "text/plain": [
       "District Area\n",
       "Birmingham            13491\n",
       "Leeds                  8898\n",
       "Manchester             6720\n",
       "Bradford               6212\n",
       "Sheffield              5710\n",
       "                      ...  \n",
       "Berwick-upon-Tweed      153\n",
       "Teesdale                142\n",
       "Shetland Islands        133\n",
       "Orkney Islands          117\n",
       "Clackmannanshire         91\n",
       "Name: count, Length: 422, dtype: int64"
      ]
     },
     "execution_count": 17,
     "metadata": {},
     "output_type": "execute_result"
    }
   ],
   "source": [
    "accident['District Area'].value_counts()"
   ]
  },
  {
   "cell_type": "markdown",
   "id": "27c9229f-afd8-4b56-924b-f31bd4d3ea12",
   "metadata": {},
   "source": [
    "<h2>INSIGHT:</h2>"
   ]
  },
  {
   "cell_type": "markdown",
   "id": "c40c0bb2-df6b-4bbc-b66c-486a44895d19",
   "metadata": {},
   "source": [
    "<h3>Based on the data ,the district area that has the most accident report is Birmingham with a total of 1349. </h3>"
   ]
  },
  {
   "cell_type": "markdown",
   "id": "dd35ad84-ad69-47c1-a1fa-01dd8cb8b13a",
   "metadata": {},
   "source": [
    "<h2>3.What is the average number of casualties fall under serious accident severity?</h2>"
   ]
  },
  {
   "cell_type": "code",
   "execution_count": 18,
   "id": "b7afc7bf-f1d3-4207-badc-d677c596a290",
   "metadata": {},
   "outputs": [
    {
     "data": {
      "text/plain": [
       "np.float64(1.46727954929322)"
      ]
     },
     "execution_count": 18,
     "metadata": {},
     "output_type": "execute_result"
    }
   ],
   "source": [
    "accident[accident['Accident_Severity'] =='Serious']['Number_of_Casualties'].mean()"
   ]
  },
  {
   "cell_type": "markdown",
   "id": "92d0e095-5d37-46da-89d7-82527f646ecc",
   "metadata": {},
   "source": [
    "<h2>INSIGHT:</h2>"
   ]
  },
  {
   "cell_type": "markdown",
   "id": "ca222c42-1cb9-43f6-9e13-27b4596337ac",
   "metadata": {},
   "source": [
    "<h3>The result shows that serious accidents usually affect one person with the average result of 1.47 it means that more than one casualty on average was involved.</h3>"
   ]
  },
  {
   "cell_type": "markdown",
   "id": "8ddbbf44-fafb-4cfd-8090-88b58910fac7",
   "metadata": {},
   "source": [
    "<h2>4.Where are road accidents higher, in urban or rural areas?</h2>"
   ]
  },
  {
   "cell_type": "code",
   "execution_count": 19,
   "id": "a5a97a91-3f37-45bd-9867-0dd7e1ace188",
   "metadata": {},
   "outputs": [
    {
     "data": {
      "text/plain": [
       "Urban_or_Rural_Area\n",
       "Urban          421663\n",
       "Rural          238990\n",
       "Unallocated        11\n",
       "Name: count, dtype: int64"
      ]
     },
     "execution_count": 19,
     "metadata": {},
     "output_type": "execute_result"
    }
   ],
   "source": [
    "accident['Urban_or_Rural_Area'].value_counts()"
   ]
  },
  {
   "cell_type": "markdown",
   "id": "61ab97bc-cba0-409e-88c4-2ca075c1334e",
   "metadata": {},
   "source": [
    "<h2>Insight:</h2>"
   ]
  },
  {
   "cell_type": "markdown",
   "id": "d84f1164-4566-4b97-b1cd-bdffd72a4fd4",
   "metadata": {},
   "source": [
    "<h3>Based on the result road accidents are much higher in Urban areas with 421663 compared to rural areas with 238990.</h3>"
   ]
  },
  {
   "cell_type": "markdown",
   "id": "4446277c-1113-4acd-a666-3473fd0386da",
   "metadata": {},
   "source": [
    "<h2>5.How many slight accidents occured on frost or ice compared to snow?</h2>"
   ]
  },
  {
   "cell_type": "code",
   "execution_count": 20,
   "id": "b52224b2-aaed-4d6b-96f6-d735febd1671",
   "metadata": {},
   "outputs": [
    {
     "data": {
      "text/plain": [
       "Road_Surface_Conditions  Accident_Severity\n",
       "Dry                      Fatal                  5788\n",
       "                         Serious               61638\n",
       "                         Slight               380395\n",
       "Flood over 3cm. deep     Fatal                    23\n",
       "                         Serious                 152\n",
       "                         Slight                  842\n",
       "Frost or ice             Fatal                   193\n",
       "                         Serious                2007\n",
       "                         Slight                16317\n",
       "Snow                     Fatal                    35\n",
       "                         Serious                 565\n",
       "                         Slight                 5290\n",
       "Wet or damp              Fatal                  2620\n",
       "                         Serious               23785\n",
       "                         Slight               160303\n",
       "dtype: int64"
      ]
     },
     "execution_count": 20,
     "metadata": {},
     "output_type": "execute_result"
    }
   ],
   "source": [
    "accident.groupby(['Road_Surface_Conditions','Accident_Severity']).size()"
   ]
  },
  {
   "cell_type": "markdown",
   "id": "d77722bd-1b0f-4231-aa26-c44e7554cff5",
   "metadata": {},
   "source": [
    "<h2>INSIGHT:</h2>"
   ]
  },
  {
   "cell_type": "markdown",
   "id": "b5782e65-43ba-4b70-9d4e-7cb43ecf33c9",
   "metadata": {},
   "source": [
    "<h3>Slight accident on frost or ice shows a large number of accidents with a total of 16317 compared to snow with 5290 accidents </h3>"
   ]
  },
  {
   "cell_type": "markdown",
   "id": "536947da-f3e8-468f-8f14-b7f477a3908b",
   "metadata": {},
   "source": [
    "<h2>6.Which specific date recorded the highest number of road accidents?</h2>"
   ]
  },
  {
   "cell_type": "code",
   "execution_count": 21,
   "id": "692e9be0-c208-4c9f-a8cc-4893605ee803",
   "metadata": {},
   "outputs": [
    {
     "data": {
      "text/plain": [
       "Accident Date\n",
       "30-11-2019    704\n",
       "31-01-2019    697\n",
       "13-11-2021    692\n",
       "13-07-2019    692\n",
       "14-08-2019    688\n",
       "             ... \n",
       "30-12-2022    171\n",
       "25-12-2019    157\n",
       "25-12-2022    145\n",
       "10/1/2022     123\n",
       "25-12-2020    118\n",
       "Name: count, Length: 1461, dtype: int64"
      ]
     },
     "execution_count": 21,
     "metadata": {},
     "output_type": "execute_result"
    }
   ],
   "source": [
    "accident['Accident Date'].value_counts()"
   ]
  },
  {
   "cell_type": "markdown",
   "id": "50863986-4f0e-4274-9ee5-0f21788a5827",
   "metadata": {},
   "source": [
    "<h2>INSIGHT:</h2>"
   ]
  },
  {
   "cell_type": "markdown",
   "id": "09d7f5ce-d423-4e33-9cc2-6374ef6834be",
   "metadata": {},
   "source": [
    "<h3>The result shows that on 30th of November 2019 was recorded the highest number of accidents that makes it a risky period because of the seasonal weather condition.</h3>"
   ]
  },
  {
   "cell_type": "markdown",
   "id": "2ecb2089-bf53-45b9-8db4-533de4e5184f",
   "metadata": {},
   "source": [
    "<h2>7.Which weather condition has the most accidents?</h2>"
   ]
  },
  {
   "cell_type": "code",
   "execution_count": 29,
   "id": "6db9cd60-ed8f-48cd-8b33-bf6e4237cd13",
   "metadata": {},
   "outputs": [
    {
     "data": {
      "text/plain": [
       "Weather_Conditions\n",
       "Fine no high winds       520885\n",
       "Raining no high winds     79696\n",
       "Other                     17150\n",
       "Raining + high winds       9615\n",
       "Fine + high winds          8554\n",
       "Snowing no high winds      6238\n",
       "Fog or mist                3528\n",
       "Snowing + high winds        885\n",
       "Name: count, dtype: int64"
      ]
     },
     "execution_count": 29,
     "metadata": {},
     "output_type": "execute_result"
    }
   ],
   "source": [
    "accident['Weather_Conditions'].value_counts()"
   ]
  },
  {
   "cell_type": "markdown",
   "id": "525fb675-8f06-4327-85f6-fa683f4344c3",
   "metadata": {},
   "source": [
    "<h2>INSIGHT:</h2>"
   ]
  },
  {
   "cell_type": "markdown",
   "id": "87d98ef4-05ac-42a1-af16-a9dc8eb0d7c6",
   "metadata": {},
   "source": [
    "<h3>Based on the result weather conditions does not affect the accident rate because it is high during fine no high winds.</h3>"
   ]
  },
  {
   "cell_type": "markdown",
   "id": "be579806-9135-4de6-969a-fcca6c5f11f0",
   "metadata": {},
   "source": [
    "<h2>8.Which severity is most common in urban areas?</h2>"
   ]
  },
  {
   "cell_type": "code",
   "execution_count": 22,
   "id": "6a97afbd-d5f5-43f5-9204-a207a501643c",
   "metadata": {},
   "outputs": [
    {
     "data": {
      "text/plain": [
       "Urban_or_Rural_Area  Accident_Severity\n",
       "Rural                Fatal                  5601\n",
       "                     Serious               37312\n",
       "                     Slight               196077\n",
       "Unallocated          Serious                   1\n",
       "                     Slight                   10\n",
       "Urban                Fatal                  3060\n",
       "                     Serious               50902\n",
       "                     Slight               367701\n",
       "dtype: int64"
      ]
     },
     "execution_count": 22,
     "metadata": {},
     "output_type": "execute_result"
    }
   ],
   "source": [
    "accident.groupby(['Urban_or_Rural_Area','Accident_Severity']).size()"
   ]
  },
  {
   "cell_type": "markdown",
   "id": "51183732-dd90-46f3-bb33-d32961e9d2a1",
   "metadata": {},
   "source": [
    "<h2>INSIGHT:</h2>"
   ]
  },
  {
   "cell_type": "markdown",
   "id": "7541d056-6b45-4ddb-af60-2836cb153494",
   "metadata": {},
   "source": [
    "<h3>Based on the data urban areas have the highest number of accidents with 367,701 slight accidents while rural areas has 196,077.This means that urban areas have more accidents overall but usually less severe compared to rural with higher fatality rate.</h3>"
   ]
  },
  {
   "cell_type": "markdown",
   "id": "0e70f76f-338a-4458-adcd-5522d0443bf6",
   "metadata": {},
   "source": [
    "<h2>9.How many fatal accidents happen at night vs. daylight?</h2>"
   ]
  },
  {
   "cell_type": "code",
   "execution_count": 25,
   "id": "af742a32-d251-4477-83c9-6bfa3d3bde49",
   "metadata": {},
   "outputs": [
    {
     "data": {
      "text/plain": [
       "Light_Conditions             Accident_Severity\n",
       "Darkness - lighting unknown  Fatal                    68\n",
       "                             Serious                 794\n",
       "                             Slight                 5622\n",
       "Darkness - lights lit        Fatal                  1860\n",
       "                             Serious               19130\n",
       "                             Slight               108345\n",
       "Darkness - lights unlit      Fatal                    45\n",
       "                             Serious                 360\n",
       "                             Slight                 2138\n",
       "Darkness - no lighting       Fatal                  1612\n",
       "                             Serious                7174\n",
       "                             Slight                28651\n",
       "Daylight                     Fatal                  5076\n",
       "                             Serious               60759\n",
       "                             Slight               419045\n",
       "dtype: int64"
      ]
     },
     "execution_count": 25,
     "metadata": {},
     "output_type": "execute_result"
    }
   ],
   "source": [
    "accident.groupby(['Light_Conditions','Accident_Severity']).size()"
   ]
  },
  {
   "cell_type": "markdown",
   "id": "2d278c25-ef25-416b-b998-4e7a4fb5d7c7",
   "metadata": {},
   "source": [
    "<h2>INSIGHT:</h2>"
   ]
  },
  {
   "cell_type": "markdown",
   "id": "d97dad06-7d54-4024-bbdd-9cf219ae2c1e",
   "metadata": {},
   "source": [
    "<h3></h3>"
   ]
  },
  {
   "cell_type": "markdown",
   "id": "f639c73f-d76d-4e2a-85f6-44ddac2302ae",
   "metadata": {},
   "source": [
    "<h2>10.What is the total accident under fatal severity with one way street? </h2>"
   ]
  },
  {
   "cell_type": "code",
   "execution_count": 27,
   "id": "f482f26f-85dd-4ab2-b4a2-8937e4a8b0bc",
   "metadata": {},
   "outputs": [
    {
     "data": {
      "text/plain": [
       "Road_Type\n",
       "Single carriageway    6527\n",
       "Dual carriageway      1815\n",
       "Roundabout             142\n",
       "One way street          95\n",
       "Slip road               49\n",
       "Name: count, dtype: int64"
      ]
     },
     "execution_count": 27,
     "metadata": {},
     "output_type": "execute_result"
    }
   ],
   "source": [
    "accident[accident['Accident_Severity']=='Fatal']['Road_Type'].value_counts()"
   ]
  },
  {
   "cell_type": "markdown",
   "id": "1967ac7f-f1fa-411a-be7e-37a592c389ea",
   "metadata": {},
   "source": [
    "<h2>INSIGHT:</h2>"
   ]
  },
  {
   "cell_type": "markdown",
   "id": "b316b419-198b-44ad-9a09-48db2efe315b",
   "metadata": {},
   "source": [
    "<h3></h3>"
   ]
  },
  {
   "cell_type": "markdown",
   "id": "09dd4f42-2152-43d7-b709-5161a0227ccd",
   "metadata": {},
   "source": [
    "<h2>11.Which road type has the highest serious accidents?</h2>"
   ]
  },
  {
   "cell_type": "code",
   "execution_count": 28,
   "id": "3ce6e1ff-4338-4dba-bf55-9c3510b2a787",
   "metadata": {},
   "outputs": [
    {
     "data": {
      "text/plain": [
       "Road_Type\n",
       "Single carriageway    70059\n",
       "Dual carriageway      11746\n",
       "Roundabout             3665\n",
       "One way street         1655\n",
       "Slip road               611\n",
       "Name: count, dtype: int64"
      ]
     },
     "execution_count": 28,
     "metadata": {},
     "output_type": "execute_result"
    }
   ],
   "source": [
    "accident[accident['Accident_Severity']=='Serious']['Road_Type'].value_counts()"
   ]
  },
  {
   "cell_type": "markdown",
   "id": "7f2f1596-6239-467d-a88e-00149ea319c7",
   "metadata": {},
   "source": [
    "<h2>INSIGHT:</h2>"
   ]
  },
  {
   "cell_type": "markdown",
   "id": "d6667467-8b89-4f49-9b86-f1719efe9bc4",
   "metadata": {},
   "source": [
    "<h3></h3>"
   ]
  },
  {
   "cell_type": "markdown",
   "id": "fc136f4a-e00b-4918-ad2d-5fcd07f4a0bb",
   "metadata": {},
   "source": [
    "<h2>12.How does road surface condition affect accident severity</h2>"
   ]
  },
  {
   "cell_type": "code",
   "execution_count": 34,
   "id": "31037ef9-39b1-4584-b328-c5fac13c64ef",
   "metadata": {},
   "outputs": [
    {
     "data": {
      "text/html": [
       "<div>\n",
       "<style scoped>\n",
       "    .dataframe tbody tr th:only-of-type {\n",
       "        vertical-align: middle;\n",
       "    }\n",
       "\n",
       "    .dataframe tbody tr th {\n",
       "        vertical-align: top;\n",
       "    }\n",
       "\n",
       "    .dataframe thead th {\n",
       "        text-align: right;\n",
       "    }\n",
       "</style>\n",
       "<table border=\"1\" class=\"dataframe\">\n",
       "  <thead>\n",
       "    <tr style=\"text-align: right;\">\n",
       "      <th>Accident_Severity</th>\n",
       "      <th>Fatal</th>\n",
       "      <th>Serious</th>\n",
       "      <th>Slight</th>\n",
       "    </tr>\n",
       "    <tr>\n",
       "      <th>Road_Surface_Conditions</th>\n",
       "      <th></th>\n",
       "      <th></th>\n",
       "      <th></th>\n",
       "    </tr>\n",
       "  </thead>\n",
       "  <tbody>\n",
       "    <tr>\n",
       "      <th>Dry</th>\n",
       "      <td>5788</td>\n",
       "      <td>61638</td>\n",
       "      <td>380395</td>\n",
       "    </tr>\n",
       "    <tr>\n",
       "      <th>Flood over 3cm. deep</th>\n",
       "      <td>23</td>\n",
       "      <td>152</td>\n",
       "      <td>842</td>\n",
       "    </tr>\n",
       "    <tr>\n",
       "      <th>Frost or ice</th>\n",
       "      <td>193</td>\n",
       "      <td>2007</td>\n",
       "      <td>16317</td>\n",
       "    </tr>\n",
       "    <tr>\n",
       "      <th>Snow</th>\n",
       "      <td>35</td>\n",
       "      <td>565</td>\n",
       "      <td>5290</td>\n",
       "    </tr>\n",
       "    <tr>\n",
       "      <th>Wet or damp</th>\n",
       "      <td>2620</td>\n",
       "      <td>23785</td>\n",
       "      <td>160303</td>\n",
       "    </tr>\n",
       "  </tbody>\n",
       "</table>\n",
       "</div>"
      ],
      "text/plain": [
       "Accident_Severity        Fatal  Serious  Slight\n",
       "Road_Surface_Conditions                        \n",
       "Dry                       5788    61638  380395\n",
       "Flood over 3cm. deep        23      152     842\n",
       "Frost or ice               193     2007   16317\n",
       "Snow                        35      565    5290\n",
       "Wet or damp               2620    23785  160303"
      ]
     },
     "execution_count": 34,
     "metadata": {},
     "output_type": "execute_result"
    }
   ],
   "source": [
    "accident.groupby(['Road_Surface_Conditions','Accident_Severity']).size().unstack()"
   ]
  },
  {
   "cell_type": "markdown",
   "id": "e340f118-2812-4fd2-9557-d064444d2a97",
   "metadata": {},
   "source": [
    "<h2>INSIGHT:</h2>"
   ]
  },
  {
   "cell_type": "markdown",
   "id": "ab38555b-ad74-47c2-b932-84a586a632cf",
   "metadata": {},
   "source": [
    "<h3></h3>"
   ]
  },
  {
   "cell_type": "markdown",
   "id": "50f3dc71-5d96-4ba1-9987-ebe1fc9dcb1e",
   "metadata": {},
   "source": [
    "<h2>13.Which day of the week has the most accidents?</h2>"
   ]
  },
  {
   "cell_type": "code",
   "execution_count": 36,
   "id": "e512ae4b-4a93-4b53-98d0-9319a7427c1c",
   "metadata": {},
   "outputs": [
    {
     "data": {
      "text/plain": [
       "Accident Date\n",
       "Tuesday      39701\n",
       "Friday       38511\n",
       "Thursday     38009\n",
       "Sunday       37772\n",
       "Saturday     37751\n",
       "Wednesday    37548\n",
       "Monday       35715\n",
       "Name: count, dtype: int64"
      ]
     },
     "execution_count": 36,
     "metadata": {},
     "output_type": "execute_result"
    }
   ],
   "source": [
    "accident['Accident Date'].dt.day_name().value_counts()"
   ]
  },
  {
   "cell_type": "markdown",
   "id": "bed9ea72-6694-4de5-802a-440b97749fc4",
   "metadata": {},
   "source": [
    "<h2>INSIGHT:</h2>"
   ]
  },
  {
   "cell_type": "markdown",
   "id": "feba2c0b-4385-4402-80f3-1495f4c2a061",
   "metadata": {},
   "source": [
    "<h3></h3>"
   ]
  },
  {
   "cell_type": "markdown",
   "id": "84dde0e3-8d1b-49da-bcc3-59f15742c619",
   "metadata": {},
   "source": [
    "<h2>14.Which vehicle type is most involved in accidents?</h2>"
   ]
  },
  {
   "cell_type": "code",
   "execution_count": 37,
   "id": "65a8112e-7287-479f-ac17-bc690abd7157",
   "metadata": {},
   "outputs": [
    {
     "data": {
      "text/plain": [
       "Vehicle_Type\n",
       "Car                                      497992\n",
       "Van / Goods 3.5 tonnes mgw or under       34160\n",
       "Bus or coach (17 or more pass seats)      25878\n",
       "Motorcycle over 500cc                     25657\n",
       "Goods 7.5 tonnes mgw and over             17307\n",
       "Motorcycle 125cc and under                15269\n",
       "Taxi/Private hire car                     13294\n",
       "Motorcycle over 125cc and up to 500cc      7656\n",
       "Motorcycle 50cc and under                  7603\n",
       "Goods over 3.5t. and under 7.5t            6096\n",
       "Other vehicle                              5637\n",
       "Minibus (8 - 16 passenger seats)           1976\n",
       "Agricultural vehicle                       1947\n",
       "Pedal cycle                                 197\n",
       "Data missing or out of range                  6\n",
       "Ridden horse                                  4\n",
       "Name: count, dtype: int64"
      ]
     },
     "execution_count": 37,
     "metadata": {},
     "output_type": "execute_result"
    }
   ],
   "source": [
    "accident['Vehicle_Type'].value_counts()"
   ]
  },
  {
   "cell_type": "markdown",
   "id": "2214b1c9-54d7-4231-9daa-17ebc7673310",
   "metadata": {},
   "source": [
    "<h2>INSIGHT:</h2>"
   ]
  },
  {
   "cell_type": "markdown",
   "id": "fe9ceed3-a899-40d8-91e6-814214eb80db",
   "metadata": {},
   "source": [
    "<h3>The result shows that cars are the most common vehicle prone to accidents. </h3>"
   ]
  },
  {
   "cell_type": "markdown",
   "id": "05d17792-7d69-44a7-9ed0-6d4551909702",
   "metadata": {},
   "source": [
    "<h2>15.Between cars and motorcycles, which is more often involved in accidents?</h2>"
   ]
  },
  {
   "cell_type": "code",
   "execution_count": null,
   "id": "a4354895-1ca7-4003-854b-617b7a7e3520",
   "metadata": {},
   "outputs": [],
   "source": []
  },
  {
   "cell_type": "markdown",
   "id": "54d7383a-a161-4329-ab92-79fff49ec948",
   "metadata": {},
   "source": [
    "<h2>INSIGHT:</h2>"
   ]
  },
  {
   "cell_type": "markdown",
   "id": "78ab9395-924a-4d80-a321-0c10d780d208",
   "metadata": {},
   "source": [
    "<h3></h3>"
   ]
  },
  {
   "cell_type": "markdown",
   "id": "d596dca8-c3f4-418a-8292-252fc0649766",
   "metadata": {},
   "source": [
    "<h2>16.Which district areas report the highest number of fatal,serious and slight accidents?</h2>"
   ]
  },
  {
   "cell_type": "code",
   "execution_count": 49,
   "id": "0152f19e-9fd3-4618-b57f-4902b858420a",
   "metadata": {},
   "outputs": [
    {
     "data": {
      "text/html": [
       "<div>\n",
       "<style scoped>\n",
       "    .dataframe tbody tr th:only-of-type {\n",
       "        vertical-align: middle;\n",
       "    }\n",
       "\n",
       "    .dataframe tbody tr th {\n",
       "        vertical-align: top;\n",
       "    }\n",
       "\n",
       "    .dataframe thead th {\n",
       "        text-align: right;\n",
       "    }\n",
       "</style>\n",
       "<table border=\"1\" class=\"dataframe\">\n",
       "  <thead>\n",
       "    <tr style=\"text-align: right;\">\n",
       "      <th>Accident_Severity</th>\n",
       "      <th>Fatal</th>\n",
       "      <th>Serious</th>\n",
       "      <th>Slight</th>\n",
       "    </tr>\n",
       "    <tr>\n",
       "      <th>District Area</th>\n",
       "      <th></th>\n",
       "      <th></th>\n",
       "      <th></th>\n",
       "    </tr>\n",
       "  </thead>\n",
       "  <tbody>\n",
       "    <tr>\n",
       "      <th>Aberdeen City</th>\n",
       "      <td>12</td>\n",
       "      <td>239</td>\n",
       "      <td>1072</td>\n",
       "    </tr>\n",
       "    <tr>\n",
       "      <th>Aberdeenshire</th>\n",
       "      <td>66</td>\n",
       "      <td>463</td>\n",
       "      <td>1401</td>\n",
       "    </tr>\n",
       "    <tr>\n",
       "      <th>Adur</th>\n",
       "      <td>8</td>\n",
       "      <td>101</td>\n",
       "      <td>510</td>\n",
       "    </tr>\n",
       "    <tr>\n",
       "      <th>Allerdale</th>\n",
       "      <td>24</td>\n",
       "      <td>143</td>\n",
       "      <td>961</td>\n",
       "    </tr>\n",
       "    <tr>\n",
       "      <th>Alnwick</th>\n",
       "      <td>6</td>\n",
       "      <td>33</td>\n",
       "      <td>193</td>\n",
       "    </tr>\n",
       "    <tr>\n",
       "      <th>...</th>\n",
       "      <td>...</td>\n",
       "      <td>...</td>\n",
       "      <td>...</td>\n",
       "    </tr>\n",
       "    <tr>\n",
       "      <th>Wychavon</th>\n",
       "      <td>30</td>\n",
       "      <td>193</td>\n",
       "      <td>1138</td>\n",
       "    </tr>\n",
       "    <tr>\n",
       "      <th>Wycombe</th>\n",
       "      <td>20</td>\n",
       "      <td>216</td>\n",
       "      <td>1493</td>\n",
       "    </tr>\n",
       "    <tr>\n",
       "      <th>Wyre</th>\n",
       "      <td>15</td>\n",
       "      <td>186</td>\n",
       "      <td>1037</td>\n",
       "    </tr>\n",
       "    <tr>\n",
       "      <th>Wyre Forest</th>\n",
       "      <td>22</td>\n",
       "      <td>132</td>\n",
       "      <td>815</td>\n",
       "    </tr>\n",
       "    <tr>\n",
       "      <th>York</th>\n",
       "      <td>21</td>\n",
       "      <td>255</td>\n",
       "      <td>1621</td>\n",
       "    </tr>\n",
       "  </tbody>\n",
       "</table>\n",
       "<p>422 rows × 3 columns</p>\n",
       "</div>"
      ],
      "text/plain": [
       "Accident_Severity  Fatal  Serious  Slight\n",
       "District Area                            \n",
       "Aberdeen City         12      239    1072\n",
       "Aberdeenshire         66      463    1401\n",
       "Adur                   8      101     510\n",
       "Allerdale             24      143     961\n",
       "Alnwick                6       33     193\n",
       "...                  ...      ...     ...\n",
       "Wychavon              30      193    1138\n",
       "Wycombe               20      216    1493\n",
       "Wyre                  15      186    1037\n",
       "Wyre Forest           22      132     815\n",
       "York                  21      255    1621\n",
       "\n",
       "[422 rows x 3 columns]"
      ]
     },
     "execution_count": 49,
     "metadata": {},
     "output_type": "execute_result"
    }
   ],
   "source": [
    "accident.groupby(['District Area','Accident_Severity']).size().unstack()"
   ]
  },
  {
   "cell_type": "markdown",
   "id": "7e944f7d-d865-4add-bd15-b573e09ce1af",
   "metadata": {},
   "source": [
    "<h2>INSIGHT:</h2>"
   ]
  },
  {
   "cell_type": "markdown",
   "id": "77ab456b-032e-4e34-8669-e0e4f3ddf7bc",
   "metadata": {},
   "source": [
    "<h3>It shows that the District of Aberdeenshire has the higher Fatal and Serious accidents compared to others.</h3>"
   ]
  },
  {
   "cell_type": "markdown",
   "id": "a8cc6dd8-5c62-4bc5-81e1-a7fbfdd6d307",
   "metadata": {},
   "source": [
    "<h2>17.</h2>"
   ]
  },
  {
   "cell_type": "code",
   "execution_count": null,
   "id": "6c16bb32-8712-4f1d-89d1-daa3655ac071",
   "metadata": {},
   "outputs": [],
   "source": []
  },
  {
   "cell_type": "markdown",
   "id": "3b897861-c636-40bf-8190-b0afb12ce1c3",
   "metadata": {},
   "source": [
    "<h2>INSIGHT:</h2>"
   ]
  },
  {
   "cell_type": "markdown",
   "id": "9f178721-a6fd-4ed3-b850-cc76eec2ae4b",
   "metadata": {},
   "source": [
    "<h3></h3>"
   ]
  },
  {
   "cell_type": "code",
   "execution_count": null,
   "id": "2d8ce905-9b42-414d-b196-3d1d2b2f5405",
   "metadata": {},
   "outputs": [],
   "source": []
  }
 ],
 "metadata": {
  "kernelspec": {
   "display_name": "Python 3 (ipykernel)",
   "language": "python",
   "name": "python3"
  },
  "language_info": {
   "codemirror_mode": {
    "name": "ipython",
    "version": 3
   },
   "file_extension": ".py",
   "mimetype": "text/x-python",
   "name": "python",
   "nbconvert_exporter": "python",
   "pygments_lexer": "ipython3",
   "version": "3.11.9"
  }
 },
 "nbformat": 4,
 "nbformat_minor": 5
}
